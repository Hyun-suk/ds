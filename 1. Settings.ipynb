{
 "cells": [
  {
   "cell_type": "code",
   "execution_count": 3,
   "metadata": {},
   "outputs": [
    {
     "name": "stdout",
     "output_type": "stream",
     "text": [
      "Requirement already satisfied: pandas in /Users/hyunsuk/.pyenv/versions/3.6.5/envs/ds/lib/python3.6/site-packages (0.23.4)\n",
      "Requirement already satisfied: numpy>=1.9.0 in /Users/hyunsuk/.pyenv/versions/3.6.5/envs/ds/lib/python3.6/site-packages (from pandas) (1.15.2)\n",
      "Requirement already satisfied: python-dateutil>=2.5.0 in /Users/hyunsuk/.pyenv/versions/3.6.5/envs/ds/lib/python3.6/site-packages (from pandas) (2.7.3)\n",
      "Requirement already satisfied: pytz>=2011k in /Users/hyunsuk/.pyenv/versions/3.6.5/envs/ds/lib/python3.6/site-packages (from pandas) (2018.5)\n",
      "Requirement already satisfied: six>=1.5 in /Users/hyunsuk/.pyenv/versions/3.6.5/envs/ds/lib/python3.6/site-packages (from python-dateutil>=2.5.0->pandas) (1.11.0)\n",
      "Requirement already up-to-date: scikit-learn in /Users/hyunsuk/.pyenv/versions/3.6.5/envs/ds/lib/python3.6/site-packages (0.19.2)\n",
      "Collecting matplotlib\n",
      "\u001b[?25l  Downloading https://files.pythonhosted.org/packages/f0/de/49aea99b9d088ce4457b5b171c016173347eba7b79753cdacbbd7da89dee/matplotlib-3.0.0-cp36-cp36m-macosx_10_6_intel.macosx_10_9_intel.macosx_10_9_x86_64.macosx_10_10_intel.macosx_10_10_x86_64.whl (14.1MB)\n",
      "\u001b[K    100% |████████████████████████████████| 14.1MB 646kB/s ta 0:00:01\n",
      "\u001b[?25hCollecting cycler>=0.10 (from matplotlib)\n",
      "  Downloading https://files.pythonhosted.org/packages/f7/d2/e07d3ebb2bd7af696440ce7e754c59dd546ffe1bbe732c8ab68b9c834e61/cycler-0.10.0-py2.py3-none-any.whl\n",
      "Collecting pyparsing!=2.0.4,!=2.1.2,!=2.1.6,>=2.0.1 (from matplotlib)\n",
      "\u001b[?25l  Downloading https://files.pythonhosted.org/packages/42/47/e6d51aef3d0393f7d343592d63a73beee2a8d3d69c22b053e252c6cfacd5/pyparsing-2.2.1-py2.py3-none-any.whl (57kB)\n",
      "\u001b[K    100% |████████████████████████████████| 61kB 1.1MB/s ta 0:00:01\n",
      "\u001b[?25hRequirement already satisfied: python-dateutil>=2.1 in /Users/hyunsuk/.pyenv/versions/3.6.5/envs/ds/lib/python3.6/site-packages (from matplotlib) (2.7.3)\n",
      "Requirement already satisfied: numpy>=1.10.0 in /Users/hyunsuk/.pyenv/versions/3.6.5/envs/ds/lib/python3.6/site-packages (from matplotlib) (1.15.2)\n",
      "Collecting kiwisolver>=1.0.1 (from matplotlib)\n",
      "\u001b[?25l  Downloading https://files.pythonhosted.org/packages/fb/96/619db9bf08f652790fa9f3c3884a67dc43da4bdaa185a5aa2117eb4651e1/kiwisolver-1.0.1-cp36-cp36m-macosx_10_6_intel.macosx_10_9_intel.macosx_10_9_x86_64.macosx_10_10_intel.macosx_10_10_x86_64.whl (108kB)\n",
      "\u001b[K    100% |████████████████████████████████| 112kB 876kB/s ta 0:00:01\n",
      "\u001b[?25hRequirement already satisfied: six in /Users/hyunsuk/.pyenv/versions/3.6.5/envs/ds/lib/python3.6/site-packages (from cycler>=0.10->matplotlib) (1.11.0)\n",
      "Requirement already satisfied: setuptools in /Users/hyunsuk/.pyenv/versions/3.6.5/envs/ds/lib/python3.6/site-packages (from kiwisolver>=1.0.1->matplotlib) (39.0.1)\n",
      "Installing collected packages: cycler, pyparsing, kiwisolver, matplotlib\n",
      "Successfully installed cycler-0.10.0 kiwisolver-1.0.1 matplotlib-3.0.0 pyparsing-2.2.1\n"
     ]
    }
   ],
   "source": [
    "#Install packages for Data science\n",
    "!python -m pip install pandas\n",
    "!pip install -U scikit-learn\n",
    "!pip install matplotlib"
   ]
  },
  {
   "cell_type": "code",
   "execution_count": 5,
   "metadata": {},
   "outputs": [
    {
     "name": "stdout",
     "output_type": "stream",
     "text": [
      "Requirement already satisfied: requests in /Users/hyunsuk/.pyenv/versions/3.6.5/envs/ds/lib/python3.6/site-packages (2.19.1)\n",
      "Requirement already satisfied: chardet<3.1.0,>=3.0.2 in /Users/hyunsuk/.pyenv/versions/3.6.5/envs/ds/lib/python3.6/site-packages (from requests) (3.0.4)\n",
      "Requirement already satisfied: urllib3<1.24,>=1.21.1 in /Users/hyunsuk/.pyenv/versions/3.6.5/envs/ds/lib/python3.6/site-packages (from requests) (1.23)\n",
      "Requirement already satisfied: certifi>=2017.4.17 in /Users/hyunsuk/.pyenv/versions/3.6.5/envs/ds/lib/python3.6/site-packages (from requests) (2018.8.24)\n",
      "Requirement already satisfied: idna<2.8,>=2.5 in /Users/hyunsuk/.pyenv/versions/3.6.5/envs/ds/lib/python3.6/site-packages (from requests) (2.7)\n",
      "Collecting beautifulsoup4\n",
      "\u001b[?25l  Downloading https://files.pythonhosted.org/packages/21/0a/47fdf541c97fd9b6a610cb5fd518175308a7cc60569962e776ac52420387/beautifulsoup4-4.6.3-py3-none-any.whl (90kB)\n",
      "\u001b[K    100% |████████████████████████████████| 92kB 342kB/s ta 0:00:01\n",
      "\u001b[?25hInstalling collected packages: beautifulsoup4\n",
      "Successfully installed beautifulsoup4-4.6.3\n"
     ]
    }
   ],
   "source": [
    "#Install packages for data collecting\n",
    "!pip install requests\n",
    "!pip install beautifulsoup4"
   ]
  },
  {
   "cell_type": "code",
   "execution_count": null,
   "metadata": {},
   "outputs": [],
   "source": []
  }
 ],
 "metadata": {
  "kernelspec": {
   "display_name": "Python 3",
   "language": "python",
   "name": "python3"
  },
  "language_info": {
   "codemirror_mode": {
    "name": "ipython",
    "version": 3
   },
   "file_extension": ".py",
   "mimetype": "text/x-python",
   "name": "python",
   "nbconvert_exporter": "python",
   "pygments_lexer": "ipython3",
   "version": "3.6.5"
  }
 },
 "nbformat": 4,
 "nbformat_minor": 2
}
